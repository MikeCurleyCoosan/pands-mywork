{
 "cells": [
  {
   "cell_type": "markdown",
   "metadata": {},
   "source": [
    "# Messing with numPy"
   ]
  },
  {
   "cell_type": "code",
   "execution_count": 11,
   "metadata": {},
   "outputs": [
    {
     "name": "stdout",
     "output_type": "stream",
     "text": [
      "[10 20]\n",
      "[10.  10.3 10.6 10.9 11.2 11.5 11.8 12.1 12.4 12.7 13.  13.3 13.6 13.9\n",
      " 14.2 14.5 14.8 15.1 15.4 15.7 16.  16.3 16.6 16.9 17.2 17.5 17.8 18.1\n",
      " 18.4 18.7 19.  19.3 19.6 19.9 20.2 20.5 20.8 21.1 21.4 21.7 22.  22.3\n",
      " 22.6 22.9 23.2 23.5 23.8 24.1 24.4 24.7 25.  25.3 25.6 25.9 26.2 26.5\n",
      " 26.8 27.1 27.4 27.7 28.  28.3 28.6 28.9 29.2 29.5 29.8]\n",
      "[10. 15. 20. 25. 30.]\n"
     ]
    }
   ],
   "source": [
    "# Import numpy to put it to use\n",
    "import numpy as np\n",
    "\n",
    "# Create a 1D array\n",
    "array = np.arange(10, 30, 10) # Creates and array of numbers between 10(inclusive) and 30(exclusive) with a step of 10\n",
    "\n",
    "print(array)\n",
    "\n",
    "array2 = np.arange(10,30, 0.3) # Creates an array of numbers between 10(inclusive) and 30(exclusive) with a step of 0.3\n",
    "print(array2)\n",
    "\n",
    "# Create an array of a defined size between two numbers\n",
    "\n",
    "array3 = np.linspace(10, 30, 5) # Creates an array of 5 numbers between 10 and 30\n",
    "print(array3)\n",
    "\n"
   ]
  },
  {
   "cell_type": "code",
   "execution_count": 13,
   "metadata": {},
   "outputs": [
    {
     "name": "stdout",
     "output_type": "stream",
     "text": [
      "[[1 2 3]\n",
      " [4 5 6]]\n",
      "[[0 1 2]\n",
      " [3 4 5]]\n",
      "[0 1 2 3 4 5]\n",
      "[[0 1 2]\n",
      " [3 4 5]]\n"
     ]
    }
   ],
   "source": [
    "# Create a 2D array\n",
    "array4 = np.array([[1, 2, 3], [4, 5, 6]])\n",
    "print(array4)\n",
    "\n",
    "# Rearraning an array to a different shape\n",
    "array5 = np.arange(6).reshape(2, 3) # Creates an array of numbers between 0 and 6 and reshapes it to a 2x3 array\n",
    "\n",
    "print(array5)\n",
    "\n",
    "# Rearranging an array to a different shape\n",
    "\n",
    "array6 = np.arange(6) # Creates an array of numbers between 0 and 6\n",
    "print(array6)\n",
    "\n",
    "array7 = array6.reshape(2, 3) # Reshapes the array to a 2x3 array\n",
    "print(array7)\n"
   ]
  },
  {
   "cell_type": "code",
   "execution_count": null,
   "metadata": {},
   "outputs": [],
   "source": []
  }
 ],
 "metadata": {
  "kernelspec": {
   "display_name": "base",
   "language": "python",
   "name": "python3"
  },
  "language_info": {
   "codemirror_mode": {
    "name": "ipython",
    "version": 3
   },
   "file_extension": ".py",
   "mimetype": "text/x-python",
   "name": "python",
   "nbconvert_exporter": "python",
   "pygments_lexer": "ipython3",
   "version": "3.11.5"
  }
 },
 "nbformat": 4,
 "nbformat_minor": 2
}
