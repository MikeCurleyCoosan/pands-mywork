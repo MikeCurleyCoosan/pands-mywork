{
 "cells": [
  {
   "cell_type": "markdown",
   "metadata": {},
   "source": [
    "# Dictionaries in Python\n",
    "\n",
    "Dictionaries are Python's implementation of a data structure that is more generally known as an associative array.  \n",
    "A dictionary consists of a collection of key-value pairs.  \n",
    "Each key-value pair maps the key to its associated value\n",
    "\n",
    "You can define a dictionary by enclosing a comma-separated list of key-value pairs in curly braces {}.   \n",
    "A colon : separates each key from its associated value:"
   ]
  },
  {
   "cell_type": "markdown",
   "metadata": {},
   "source": [
    "```python\n",
    "\n",
    "d = {\n",
    "\n",
    "    <Key> : <value>,\n",
    "    <Key> : <value>,\n",
    "    <Key> : <value>\n",
    "}\n",
    "```"
   ]
  },
  {
   "cell_type": "code",
   "execution_count": 6,
   "metadata": {},
   "outputs": [
    {
     "name": "stdout",
     "output_type": "stream",
     "text": [
      "{'Manager': 'Andy Farrell', 'Centre': 'Bundee Aki', 'Centre-2': 'Garry Ringrose', 'Centre-3': 'Robbie Henshaw', 'Fly-Half-2': 'Harry Byrne', 'Fly-Half': 'Jack Crowley', 'Fly-Half-3': 'Johnny Sexton', 'Fly-Half-4': 'Harry Byrne', 'Winger': 'James Lowe', 'Winger-2': 'Jacob Stockdale', 'Winger-3': 'Keith Earls', 'Scrum-Half': 'Connor Murray', 'Scrum-Half-2': 'Craig Casey', 'Scrum-Half-3': 'Jamison Gibson-Park', 'Full-back': 'Hugo Keenan', 'Full-back-2': 'Mack Hansen', 'Back-row': 'Josh Van der Flyer', 'Back-row-2': \"Peter O'Mahony\", 'Back-row-3': 'Caelan Doris', 'Back-row-4': 'Jack Conan', 'Lock': 'Joe McCarthy', 'Lock-2': 'James Ryan', 'Lock-3': 'Iain Henderson', 'Hooker': 'Dan Sheehan', 'Hooker-2': 'Ronan Kelleher', 'Prop': 'Andrew Porter', 'Prop-2': 'Cian Healy', 'Prop-3': \"Tom O'Toole\", 'Prop-4': 'Tadhg Furlong'}\n"
     ]
    }
   ],
   "source": [
    "irelandRugbyTeam = {\n",
    "    'Manager' : 'Andy Farrell',\n",
    "    'Centre' : 'Bundee Aki',\n",
    "    'Centre-2' : 'Garry Ringrose',\n",
    "    'Centre-3' : 'Robbie Henshaw',\n",
    "    'Fly-Half-2' : 'Harry Byrne',\n",
    "    'Fly-Half' : 'Jack Crowley',\n",
    "    'Fly-Half-3' : 'Johnny Sexton',\n",
    "    'Fly-Half-4' : 'Harry Byrne',\n",
    "    'Winger' : 'James Lowe',\n",
    "    'Winger-2' : 'Jacob Stockdale',\n",
    "    'Winger-3' : 'Keith Earls',\n",
    "    'Scrum-Half': 'Connor Murray',\n",
    "    'Scrum-Half-2' : 'Craig Casey',\n",
    "    'Scrum-Half-3' : 'Jamison Gibson-Park',\n",
    "    'Full-back' : 'Hugo Keenan',\n",
    "    'Full-back-2' : 'Mack Hansen',\n",
    "    'Back-row' : 'Josh Van der Flyer',\n",
    "    'Back-row-2' : 'Peter O\\'Mahony',\n",
    "    'Back-row-3' : 'Caelan Doris',\n",
    "    'Back-row-4' : 'Jack Conan',\n",
    "    'Lock' : 'Joe McCarthy',\n",
    "    'Lock-2' : 'James Ryan',\n",
    "    'Lock-3' : 'Iain Henderson',\n",
    "    'Hooker' : 'Dan Sheehan',\n",
    "    'Hooker-2' : 'Ronan Kelleher',\n",
    "    'Prop' : 'Andrew Porter',\n",
    "    'Prop-2' : 'Cian Healy',\n",
    "    'Prop-3' : 'Tom O\\'Toole',\n",
    "    'Prop-4' : 'Tadhg Furlong',\n",
    "}\n",
    "\n",
    "print(irelandRugbyTeam)"
   ]
  },
  {
   "cell_type": "markdown",
   "metadata": {},
   "source": [
    "You can also construct a dictionary with the built-in dict() function. The argument to dict() should be a sequence of key-value pairs."
   ]
  },
  {
   "cell_type": "markdown",
   "metadata": {},
   "source": []
  }
 ],
 "metadata": {
  "kernelspec": {
   "display_name": "base",
   "language": "python",
   "name": "python3"
  },
  "language_info": {
   "codemirror_mode": {
    "name": "ipython",
    "version": 3
   },
   "file_extension": ".py",
   "mimetype": "text/x-python",
   "name": "python",
   "nbconvert_exporter": "python",
   "pygments_lexer": "ipython3",
   "version": "3.11.5"
  }
 },
 "nbformat": 4,
 "nbformat_minor": 2
}
