{
 "cells": [
  {
   "cell_type": "markdown",
   "metadata": {},
   "source": [
    "# Exploring Lists in python\n",
    "---"
   ]
  },
  {
   "cell_type": "markdown",
   "metadata": {},
   "source": [
    "Lists that have the same elements but in different orders are not equal"
   ]
  },
  {
   "cell_type": "code",
   "execution_count": 3,
   "metadata": {},
   "outputs": [
    {
     "data": {
      "text/plain": [
       "False"
      ]
     },
     "execution_count": 3,
     "metadata": {},
     "output_type": "execute_result"
    }
   ],
   "source": [
    "a = [\"apple\", \"banana\", \"cherry\"]\n",
    "\n",
    "b = [\"cherry\", \"apple\", \"banana\"]\n",
    "\n",
    "a == b\n"
   ]
  },
  {
   "cell_type": "markdown",
   "metadata": {},
   "source": [
    "List elements can be accessed by index"
   ]
  },
  {
   "cell_type": "code",
   "execution_count": 5,
   "metadata": {},
   "outputs": [
    {
     "name": "stdout",
     "output_type": "stream",
     "text": [
      "foo\n",
      "baz\n",
      "corge\n"
     ]
    }
   ],
   "source": [
    "a = ['foo', 'bar', 'baz', 'qux', 'quux', 'corge']\n",
    "\n",
    "print(a[0])\n",
    "print(a[2]) \n",
    "print(a[5]) "
   ]
  },
  {
   "cell_type": "markdown",
   "metadata": {},
   "source": [
    "Negative indices count from the end of the list"
   ]
  },
  {
   "cell_type": "code",
   "execution_count": 3,
   "metadata": {},
   "outputs": [
    {
     "name": "stdout",
     "output_type": "stream",
     "text": [
      "corge\n",
      "quux\n",
      "foo\n"
     ]
    }
   ],
   "source": [
    "print(a[-1]) \n",
    "print(a[-2]) \n",
    "print(a[-6]) "
   ]
  },
  {
   "cell_type": "markdown",
   "metadata": {},
   "source": [
    "Slicing also works with lists. If a is a list, the expression a[m:n] returns the portion of a from index m to, but not including, index n"
   ]
  },
  {
   "cell_type": "code",
   "execution_count": 4,
   "metadata": {},
   "outputs": [
    {
     "name": "stdout",
     "output_type": "stream",
     "text": [
      "['bar', 'baz', 'qux']\n"
     ]
    }
   ],
   "source": [
    "b = a[1:4] \n",
    "print(b)"
   ]
  },
  {
   "cell_type": "markdown",
   "metadata": {},
   "source": [
    "Both positive and negative indices can be sliced"
   ]
  },
  {
   "cell_type": "code",
   "execution_count": 5,
   "metadata": {},
   "outputs": [
    {
     "name": "stdout",
     "output_type": "stream",
     "text": [
      "['bar', 'baz', 'qux']\n",
      "True\n"
     ]
    }
   ],
   "source": [
    "c = a[-5:-2] \n",
    "print(c)\n",
    "\n",
    "print(b == c) "
   ]
  },
  {
   "cell_type": "markdown",
   "metadata": {},
   "source": [
    "To reverse a list, use the slice a[::-1]"
   ]
  },
  {
   "cell_type": "code",
   "execution_count": 6,
   "metadata": {},
   "outputs": [
    {
     "name": "stdout",
     "output_type": "stream",
     "text": [
      "['corge', 'quux', 'qux', 'baz', 'bar', 'foo']\n"
     ]
    }
   ],
   "source": [
    "print(a[::-1]) #['corge', 'quux', 'qux', 'baz', 'bar', 'foo']"
   ]
  },
  {
   "cell_type": "markdown",
   "metadata": {},
   "source": [
    "If you use the [::] slice, you return a copy of the list (shallow copy)"
   ]
  },
  {
   "cell_type": "code",
   "execution_count": 7,
   "metadata": {},
   "outputs": [
    {
     "name": "stdout",
     "output_type": "stream",
     "text": [
      "['foo', 'bar', 'baz', 'qux', 'quux', 'corge']\n",
      "False\n",
      "True\n"
     ]
    }
   ],
   "source": [
    "d = a[::]\n",
    "\n",
    "print(d) #['foo', 'bar', 'baz', 'qux', 'quux', 'corge']\n",
    "\n",
    "print(a is d) #False\n",
    "print(a == d) #True"
   ]
  },
  {
   "cell_type": "markdown",
   "metadata": {},
   "source": [
    "If you use the slice [::2], you return every second element of the list"
   ]
  },
  {
   "cell_type": "code",
   "execution_count": 8,
   "metadata": {},
   "outputs": [
    {
     "name": "stdout",
     "output_type": "stream",
     "text": [
      "['foo', 'baz', 'quux']\n"
     ]
    }
   ],
   "source": [
    "e = a[::2]  \n",
    "print(e) #['foo', 'baz', 'quux']"
   ]
  },
  {
   "cell_type": "markdown",
   "metadata": {},
   "source": [
    "Several python operators can be used with lists, including the + operator for concatenation and the * operator for repetition"
   ]
  },
  {
   "cell_type": "code",
   "execution_count": 9,
   "metadata": {},
   "outputs": [
    {
     "name": "stdout",
     "output_type": "stream",
     "text": [
      "['foo', 'bar', 'baz', 'qux', 'quux', 'corge', 'grault', 'garply']\n",
      "['foo', 'bar', 'baz', 'qux', 'quux', 'corge', 'foo', 'bar', 'baz', 'qux', 'quux', 'corge']\n"
     ]
    }
   ],
   "source": [
    "f = a + ['grault', 'garply'] #['foo', 'bar', 'baz', 'qux', 'quux', 'corge', 'grault', 'garply']\n",
    "print(f)\n",
    "\n",
    "g = a * 2 #['foo', 'bar', 'baz', 'qux', 'quux', 'corge', 'foo', 'bar', 'baz', 'qux', 'quux', 'corge']\n",
    "print(g)"
   ]
  },
  {
   "cell_type": "markdown",
   "metadata": {},
   "source": [
    "We can use the in and not in operators to check if a list contains a specific value"
   ]
  },
  {
   "cell_type": "code",
   "execution_count": 10,
   "metadata": {},
   "outputs": [
    {
     "name": "stdout",
     "output_type": "stream",
     "text": [
      "True\n",
      "True\n",
      "False\n"
     ]
    }
   ],
   "source": [
    "print('qux' in a) #True\n",
    "print('thud' not in a) #True\n",
    "print('thud' in a) #False"
   ]
  },
  {
   "cell_type": "markdown",
   "metadata": {},
   "source": [
    "The len() function returns the number of elements in a list"
   ]
  },
  {
   "cell_type": "code",
   "execution_count": 11,
   "metadata": {},
   "outputs": [
    {
     "name": "stdout",
     "output_type": "stream",
     "text": [
      "6\n"
     ]
    }
   ],
   "source": [
    "print(len(a)) #6"
   ]
  },
  {
   "cell_type": "markdown",
   "metadata": {},
   "source": [
    "The min() and max() functions return the smallest and largest elements of a list, respectively"
   ]
  },
  {
   "cell_type": "code",
   "execution_count": 12,
   "metadata": {},
   "outputs": [
    {
     "name": "stdout",
     "output_type": "stream",
     "text": [
      "bar\n",
      "qux\n"
     ]
    }
   ],
   "source": [
    "print(min(a)) #bar\n",
    "print(max(a)) #qux"
   ]
  },
  {
   "cell_type": "markdown",
   "metadata": {},
   "source": [
    "Lists can be nested within othe lists\n",
    "\n"
   ]
  },
  {
   "cell_type": "code",
   "execution_count": 13,
   "metadata": {},
   "outputs": [
    {
     "name": "stdout",
     "output_type": "stream",
     "text": [
      "a g j\n"
     ]
    }
   ],
   "source": [
    "x = ['a', ['bb', ['ccc', 'ddd'], 'ee', 'ff'], 'g', ['hh', 'ii'], 'j']\n",
    "\n",
    "print(x[0], x[2], x[4]) #a g j"
   ]
  },
  {
   "cell_type": "markdown",
   "metadata": {},
   "source": [
    "\n",
    "\n",
    "<p align=\"center\"><img src=\"https://files.realpython.com/media/t.08554d94a1e5.png\" width=\"700\" height=\"550\"></p>"
   ]
  },
  {
   "cell_type": "markdown",
   "metadata": {},
   "source": [
    "To access elements in a sublist, simply append an additional index"
   ]
  },
  {
   "cell_type": "code",
   "execution_count": 14,
   "metadata": {},
   "outputs": [
    {
     "name": "stdout",
     "output_type": "stream",
     "text": [
      "hh ii\n",
      "ccc ddd\n"
     ]
    }
   ],
   "source": [
    "x[1] #['bb', ['ccc', 'ddd'], 'ee', 'ff']\n",
    "\n",
    "x[1][0] #bb\n",
    "\n",
    "x[1][1] #['ccc', 'ddd']\n",
    "\n",
    "x[1][2] #'ee'\n",
    "\n",
    "x[1][3] #'ff'\n",
    "\n",
    "\n",
    "x[3] #['hh', 'ii']\n",
    "\n",
    "print(x[3][0], x[3][1]) #hh ii\n",
    "\n",
    "x[1][1] #['ccc', 'ddd']\n",
    "\n",
    "print(x[1][1][0], x[1][1][1]) #ccc ddd"
   ]
  },
  {
   "cell_type": "markdown",
   "metadata": {},
   "source": [
    "Note 'ddd\" is not one of the elements in the list x, or in the sublist x[1], but is only an element of the sublist x[1][1]"
   ]
  },
  {
   "cell_type": "code",
   "execution_count": 15,
   "metadata": {},
   "outputs": [
    {
     "name": "stdout",
     "output_type": "stream",
     "text": [
      "False\n",
      "False\n",
      "True\n"
     ]
    }
   ],
   "source": [
    "print('ddd' in x) #False\n",
    "print('ddd' in x[1]) #False\n",
    "print('ddd' in x[1][1]) #True"
   ]
  },
  {
   "cell_type": "markdown",
   "metadata": {},
   "source": [
    "Also note subelements of x are not included in the len() function"
   ]
  },
  {
   "cell_type": "code",
   "execution_count": 16,
   "metadata": {},
   "outputs": [
    {
     "name": "stdout",
     "output_type": "stream",
     "text": [
      "5\n",
      "4\n"
     ]
    }
   ],
   "source": [
    "print(len(x)) #5, x only has 5 elements in in, three string and two sublists\n",
    "print(len(x[1])) #4"
   ]
  },
  {
   "cell_type": "markdown",
   "metadata": {},
   "source": [
    "Lists are mutable, meaning they can be changed after they are created  \n",
    "Modifying a single value in a list is as simple as assigning a new value to the element using the index  "
   ]
  },
  {
   "cell_type": "code",
   "execution_count": 17,
   "metadata": {},
   "outputs": [
    {
     "name": "stdout",
     "output_type": "stream",
     "text": [
      "['foo', 'bar', 10, 'qux', 'quux', 'corge']\n"
     ]
    }
   ],
   "source": [
    "a = ['foo', 'bar', 'baz', 'qux', 'quux', 'corge']\n",
    "\n",
    "a[2] = 10\n",
    "\n",
    "print(a)   #['foo', 'bar', 10, 'qux', 'quux', 'corge']"
   ]
  },
  {
   "cell_type": "markdown",
   "metadata": {},
   "source": [
    "The del statement can be used to remove an element from a list"
   ]
  },
  {
   "cell_type": "code",
   "execution_count": 18,
   "metadata": {},
   "outputs": [
    {
     "name": "stdout",
     "output_type": "stream",
     "text": [
      "['foo', 'bar', 'baz', 'quux', 'corge']\n"
     ]
    }
   ],
   "source": [
    "a = ['foo', 'bar', 'baz', 'qux', 'quux', 'corge']\n",
    "\n",
    "del a[3]\n",
    "\n",
    "print(a) #['foo', 'bar', 'baz', 'quux', 'corge']"
   ]
  },
  {
   "cell_type": "markdown",
   "metadata": {},
   "source": [
    "Modifying multiple elements in a list can be done using slices"
   ]
  },
  {
   "cell_type": "code",
   "execution_count": 19,
   "metadata": {},
   "outputs": [
    {
     "name": "stdout",
     "output_type": "stream",
     "text": [
      "['foo', 1.1, 2.2, 3.3, 4.4, 'quux', 'corge']\n",
      "[1.1, 2.2, 3.3, 4.4]\n",
      "['foo', 'bark', 'quux', 'corge']\n"
     ]
    }
   ],
   "source": [
    "a = ['foo', 'bar', 'baz', 'qux', 'quux', 'corge']\n",
    "\n",
    "a[1:4] = [1.1, 2.2, 3.3, 4.4]   \n",
    "\n",
    "print(a) #['foo', 1.1, 2.2, 3.3, 4.4, 'quux', 'corge']\n",
    "\n",
    "print(a[1:5]) #[1.1, 2.2, 3.3, 4.4]  \n",
    "\n",
    "a[1:5] = ['bark']   \n",
    "\n",
    "print(a) #['foo', 'bark', 'quux', 'corge']"
   ]
  },
  {
   "cell_type": "markdown",
   "metadata": {},
   "source": [
    "The number of elements replaced need not be equal to the number replaced. Python just grows or shrinks the list as needed\n"
   ]
  },
  {
   "cell_type": "code",
   "execution_count": 2,
   "metadata": {},
   "outputs": [
    {
     "name": "stdout",
     "output_type": "stream",
     "text": [
      "[1, 2.1, 2.2, 2.3, 3]\n",
      "[1, [2.1, 2.2, 2.3], 3]\n"
     ]
    }
   ],
   "source": [
    "a = [1, 2, 3]\n",
    "a[1:2] = [2.1, 2.2, 2.3]\n",
    "print(a) #[1, 2.1, 2.2, 2.3, 3]\n",
    "\n",
    "#Note: This is not the same as replacing a single element with a list \n",
    "\n",
    "a = [1, 2, 3]\n",
    "a[1] = [2.1, 2.2, 2.3]\n",
    "print(a) #[1, [2.1, 2.2, 2.3], 3]\n"
   ]
  },
  {
   "cell_type": "markdown",
   "metadata": {},
   "source": [
    "You can also insert into lists without removing anything. Simply specify a slice of the form [n:n]"
   ]
  },
  {
   "cell_type": "code",
   "execution_count": 3,
   "metadata": {},
   "outputs": [
    {
     "name": "stdout",
     "output_type": "stream",
     "text": [
      "['foo', 'bar', 'cox', 'box', 'lox', 'baz', 'qux', 'quux', 'corge']\n"
     ]
    }
   ],
   "source": [
    "a = ['foo', 'bar', 'baz', 'qux', 'quux', 'corge']\n",
    "\n",
    "a[2:2] = ['cox', 'box', 'lox']\n",
    "\n",
    "print(a) #['foo', 'bar', 'cox', 'box', 'lox', 'baz', 'qux', 'quux', 'corge']"
   ]
  },
  {
   "cell_type": "markdown",
   "metadata": {},
   "source": [
    "You can also delete multiple elements from a list by assigning an empty list to the appropriate slice"
   ]
  },
  {
   "cell_type": "code",
   "execution_count": 4,
   "metadata": {},
   "outputs": [
    {
     "name": "stdout",
     "output_type": "stream",
     "text": [
      "['foo', 'quux', 'corge']\n"
     ]
    }
   ],
   "source": [
    "a = ['foo', 'bar', 'baz', 'qux', 'quux', 'corge']   \n",
    "\n",
    "a[1:4]=[]\n",
    "print(a) #['foo', 'quux', 'corge']\n"
   ]
  },
  {
   "cell_type": "markdown",
   "metadata": {},
   "source": [
    "# List Methods\n",
    "\n",
    "## The following are some useful methods that can be used with lists"
   ]
  },
  {
   "cell_type": "markdown",
   "metadata": {},
   "source": [
    ">```python\n",
    ">a.append(<obj>) \n",
    ">```\n",
    "appends an object to a list"
   ]
  },
  {
   "cell_type": "code",
   "execution_count": 11,
   "metadata": {},
   "outputs": [
    {
     "name": "stdout",
     "output_type": "stream",
     "text": [
      "['a', 'b', 123]\n",
      "None\n",
      "['a', 'b', 123, 234]\n",
      "['a', 'b', 'c', 'd', 'e', 'f']\n",
      "['a', 'b', 'c', ['d', 'e', 'f']]\n",
      "['a', 'b', 'c', 'mike']\n"
     ]
    }
   ],
   "source": [
    "a = ['a','b',]\n",
    "\n",
    "a.append(123)\n",
    "print(a) #['a', 'b', 123]\n",
    "\n",
    "#Remember, list methods modify the target list in place. They do not return a new list:\n",
    "\n",
    "x = a.append(234)\n",
    "print(x) #None\n",
    "print(a) #['a', 'b', 123, 234]\n",
    "\n",
    "#Remember that when the + operator is used to concatenate to a list, \n",
    "#if the target operand is an iterable, then its elements are broken out and appended to the list individually:\n",
    "\n",
    "a = ['a', 'b', 'c']\n",
    "a = a + ['d', 'e', 'f']\n",
    "print(a) #['a', 'b', 'c', 'd', 'e', 'f']\n",
    "\n",
    "#The .append() method does not work that way! If an iterable is appended to a list with .append(), it is added as a single object:\n",
    "\n",
    "a = ['a', 'b', 'c']\n",
    "a.append(['d', 'e', 'f'])   \n",
    "print(a) #['a', 'b', 'c', ['d', 'e', 'f']]\n",
    "\n",
    "#Thus, with .append(), you can append a string as a single entity:\n",
    "\n",
    "a = ['a', 'b', 'c']\n",
    "a.append('mike')\n",
    "print(a) #['a', 'b', 'c', 'mike']"
   ]
  },
  {
   "cell_type": "markdown",
   "metadata": {},
   "source": [
    ">```python\n",
    ">a.insert(<index>, <obj>) \n",
    ">```\n",
    "\n",
    "Inserts an object into a list"
   ]
  },
  {
   "cell_type": "code",
   "execution_count": 12,
   "metadata": {},
   "outputs": [
    {
     "name": "stdout",
     "output_type": "stream",
     "text": [
      "['foo', 'bar', 'baz', 3.14159, 'qux', 'quux', 'corge']\n"
     ]
    }
   ],
   "source": [
    "a = ['foo', 'bar', 'baz', 'qux', 'quux', 'corge']\n",
    "a.insert(3, 3.14159)\n",
    "\n",
    "print(a) #['foo', 'bar', 'baz', 3.14159, 'qux', 'quux', 'corge']"
   ]
  },
  {
   "cell_type": "markdown",
   "metadata": {},
   "source": [
    ">```python\n",
    ">a.remove(<obj>)\n",
    ">```\n",
    "\n",
    "Removes an object from a list\n"
   ]
  },
  {
   "cell_type": "code",
   "execution_count": 13,
   "metadata": {},
   "outputs": [
    {
     "name": "stdout",
     "output_type": "stream",
     "text": [
      "['foo', 'bar', 'qux', 'quux', 'corge']\n"
     ]
    },
    {
     "ename": "ValueError",
     "evalue": "list.remove(x): x not in list",
     "output_type": "error",
     "traceback": [
      "\u001b[0;31m---------------------------------------------------------------------------\u001b[0m",
      "\u001b[0;31mValueError\u001b[0m                                Traceback (most recent call last)",
      "Cell \u001b[0;32mIn[13], line 6\u001b[0m\n\u001b[1;32m      2\u001b[0m a\u001b[38;5;241m.\u001b[39mremove(\u001b[38;5;124m'\u001b[39m\u001b[38;5;124mbaz\u001b[39m\u001b[38;5;124m'\u001b[39m)\n\u001b[1;32m      4\u001b[0m \u001b[38;5;28mprint\u001b[39m(a) \u001b[38;5;66;03m#['foo', 'bar', 'qux', 'quux', 'corge']\u001b[39;00m\n\u001b[0;32m----> 6\u001b[0m a\u001b[38;5;241m.\u001b[39mremove(\u001b[38;5;124m'\u001b[39m\u001b[38;5;124mbark\u001b[39m\u001b[38;5;124m'\u001b[39m)\n",
      "\u001b[0;31mValueError\u001b[0m: list.remove(x): x not in list"
     ]
    }
   ],
   "source": [
    "a = ['foo', 'bar', 'baz', 'qux', 'quux', 'corge']\n",
    "a.remove('baz')\n",
    "\n",
    "print(a) #['foo', 'bar', 'qux', 'quux', 'corge']\n",
    "\n",
    "a.remove('bark')    #ValueError: list.remove(x): x not in list"
   ]
  },
  {
   "cell_type": "markdown",
   "metadata": {},
   "source": [
    ">```python\n",
    ">a.pop(index=-1)\n",
    ">```\n",
    "Removes an element form a list\n",
    "\n",
    "This method is different from a.remove() in two ways\n",
    "\n",
    "1. You specify the indiex for the item to remove, rather than the object itself\n",
    "1. The method returns a value, the item that was removed\n",
    "\n",
    "a.pop() simply removes the last item in the list"
   ]
  },
  {
   "cell_type": "code",
   "execution_count": 2,
   "metadata": {},
   "outputs": [
    {
     "name": "stdout",
     "output_type": "stream",
     "text": [
      "corge\n",
      "['foo', 'bar', 'baz', 'qux', 'quux']\n",
      "bar\n",
      "['foo', 'baz', 'qux', 'quux']\n",
      "baz\n",
      "['foo', 'qux', 'quux']\n"
     ]
    }
   ],
   "source": [
    "a = ['foo', 'bar', 'baz', 'qux', 'quux', 'corge']\n",
    "\n",
    "b = a.pop()\n",
    "print(b) #corge\n",
    "\n",
    "print(a) #['foo', 'bar', 'baz', 'qux', 'quux']\n",
    "\n",
    "c = a.pop(1)\n",
    "print(c) #bar\n",
    "\n",
    "print(a) #['foo', 'baz', 'qux', 'quux']\n",
    "\n",
    "d= a.pop(-3)\n",
    "print(d) #baz\n",
    "\n",
    "print(a) #['foo', 'qux', 'quux']"
   ]
  },
  {
   "cell_type": "markdown",
   "metadata": {},
   "source": [
    "### End\n",
    "---"
   ]
  }
 ],
 "metadata": {
  "kernelspec": {
   "display_name": "base",
   "language": "python",
   "name": "python3"
  },
  "language_info": {
   "codemirror_mode": {
    "name": "ipython",
    "version": 3
   },
   "file_extension": ".py",
   "mimetype": "text/x-python",
   "name": "python",
   "nbconvert_exporter": "python",
   "pygments_lexer": "ipython3",
   "version": "3.11.5"
  }
 },
 "nbformat": 4,
 "nbformat_minor": 2
}
