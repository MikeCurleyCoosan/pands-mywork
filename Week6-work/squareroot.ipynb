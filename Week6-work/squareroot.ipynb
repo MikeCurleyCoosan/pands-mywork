{
 "cells": [
  {
   "cell_type": "markdown",
   "metadata": {},
   "source": [
    "Let the square root of a positive number n be equal to x\n",
    "$\\sqrt{n} = x$ \n",
    "\n",
    "$\\therefore$ by rearranging the equation we can say        n = $x^2$\n",
    "\n",
    "\n",
    "And so the function of x can be written as $f(x) = x^2 -n$\n",
    " \n",
    "and the derivitive can be written as $\\frac{df}{dx} = 2x $\n",
    "\n",
    "Using Newton Raphson method we can say that a closer approximation of the squareroot can be found by the following formula\n",
    "\n",
    "$x_{n-1} = x_{n}-\\frac{f(x_{n})}{\\frac{df}{dx}}$ and by substitution $x_{n-1} = x_{n}-\\frac{(x_n)^2 -n)}{2x_n}$\n",
    " \n",
    "where $x_{n-1}$ is the new guess  \n",
    "        $x_{n}$ is the last guess  \n",
    "        n is the number we want to find the square root of  \n"
   ]
  },
  {
   "cell_type": "markdown",
   "metadata": {},
   "source": []
  }
 ],
 "metadata": {
  "kernelspec": {
   "display_name": "base",
   "language": "python",
   "name": "python3"
  },
  "language_info": {
   "name": "python",
   "version": "3.11.5"
  }
 },
 "nbformat": 4,
 "nbformat_minor": 2
}
