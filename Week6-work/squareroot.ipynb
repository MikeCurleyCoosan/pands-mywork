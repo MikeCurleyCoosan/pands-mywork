{
 "cells": [
  {
   "cell_type": "markdown",
   "metadata": {},
   "source": [
    "#### Let the square root of a positive number n be equal to x\n",
    "####  $\\sqrt{n} = x$ \n",
    "\n",
    "#### $\\therefore$ by rearranging the equation we can say        n = $x^2$\n",
    "\n",
    "\n",
    "#### And so the function of x can be written as $f(x) = x^2 -n$\n",
    " \n",
    "#### and the derivitive can be written as $\\frac{df}{dx} = 2x $\n"
   ]
  },
  {
   "cell_type": "markdown",
   "metadata": {},
   "source": []
  }
 ],
 "metadata": {
  "kernelspec": {
   "display_name": "base",
   "language": "python",
   "name": "python3"
  },
  "language_info": {
   "name": "python",
   "version": "3.11.5"
  }
 },
 "nbformat": 4,
 "nbformat_minor": 2
}
